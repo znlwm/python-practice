{
 "cells": [
  {
   "cell_type": "code",
   "execution_count": 1,
   "id": "4ef72f17",
   "metadata": {},
   "outputs": [],
   "source": [
    "# 선택정렬-가장 작은 데이터를 찾아서 맨 앞으로 보냄.\n",
    "# 삽입정렬\n",
    "# 퀵정렬"
   ]
  },
  {
   "cell_type": "code",
   "execution_count": null,
   "id": "1db08b3e",
   "metadata": {},
   "outputs": [],
   "source": [
    "A = [9,8,7,6,5]\n",
    "B = [5,4,3,2,1]\n",
    "a=0\n",
    "b=0\n",
    "for i in A:\n",
    "    \n",
    "    # A에서 가장 작은 값 선택\n",
    "    print(i,end=\" \")\n",
    "    if i<i+1:\n",
    "        a=i\n",
    "print(\"a:\",a)\n",
    "    # B에서 가장 큰 값 선택\n",
    "for j in range(len(B)):\n",
    "    print(j)\n",
    "    while B[j]<B[j-1]:\n",
    "        b=B[j-1]\n",
    "print(\"b:\",b)\n",
    "    # 서로 값 바꿔줌 \n",
    "    # k번 반복\n",
    "    \n",
    "#내가 모르는 부분 배열에서 가장 최소값/최대값 선택하는 방법"
   ]
  },
  {
   "cell_type": "code",
   "execution_count": 41,
   "id": "e772a507",
   "metadata": {
    "scrolled": true
   },
   "outputs": [
    {
     "name": "stdout",
     "output_type": "stream",
     "text": [
      "90 1\n",
      "그에게 쥐어지는 합격의 목걸이 60 2\n",
      "70 3\n",
      "그에게 쥐어지는 합격의 목걸이 20 4\n",
      "40 5\n"
     ]
    }
   ],
   "source": [
    "marks = [90,60,70,20,40]\n",
    "number= 0\n",
    "\n",
    "for mark in marks:\n",
    "    number+=1\n",
    "    print(mark,number)\n",
    "    if mark >60:\n",
    "        print(\"그에게 쥐어지는 합격의 목걸이\", end=\" \")"
   ]
  },
  {
   "cell_type": "code",
   "execution_count": 51,
   "id": "3671237f",
   "metadata": {},
   "outputs": [
    {
     "name": "stdout",
     "output_type": "stream",
     "text": [
      "[1, 10, 7, 8, 4, 3, 2, 5, 6]\n",
      "[1, 6, 7, 8, 4, 3, 2, 5, 10]\n",
      "[1, 6, 5, 8, 4, 3, 2, 7, 10]\n",
      "[1, 6, 5, 7, 4, 3, 2, 8, 10]\n",
      "[1, 6, 5, 7, 2, 3, 4, 8, 10]\n",
      "[1, 6, 5, 7, 2, 3, 4, 8, 10]\n",
      "[1, 6, 5, 7, 2, 3, 4, 8, 10]\n",
      "[1, 6, 5, 7, 2, 3, 4, 8, 10]\n",
      "[1, 6, 5, 7, 2, 3, 4, 8, 10]\n"
     ]
    }
   ],
   "source": [
    "# 선택정렬 -어떻게 가장 작은 데이터를 찾지?  이중 for문 사용\n",
    "array=[10,5,7,8,4,3,2,1,6]\n",
    "\n",
    "for i in range(len(array)):\n",
    "    min_index= i # 가장 작은 인덱스 지정한 후 남은 것들 중에서 최소값 찾아냄..!\n",
    "    for j in range(i+1,len(array)):\n",
    "        if array[min_index]>array[j]:\n",
    "            min_index = j\n",
    "            array[i],array[min_index] = array[min_index], array[i]\n",
    "            \n",
    "array= [5,10,7,8,4,3,2,1,6]\n",
    "\n",
    "for i in range(len(array)):\n",
    "    min_index=i\n",
    "    for j in range(i+1,len(array)):\n",
    "        if array[i]>array[j]:\n",
    "            min_index=j\n",
    "    array[i],array[min_index]=array[min_index],array[i]\n",
    "    print(array)\n"
   ]
  },
  {
   "cell_type": "code",
   "execution_count": null,
   "id": "28c5dba1",
   "metadata": {},
   "outputs": [],
   "source": []
  },
  {
   "cell_type": "code",
   "execution_count": null,
   "id": "01f806b5",
   "metadata": {},
   "outputs": [],
   "source": []
  }
 ],
 "metadata": {
  "kernelspec": {
   "display_name": "Python 3",
   "language": "python",
   "name": "python3"
  },
  "language_info": {
   "codemirror_mode": {
    "name": "ipython",
    "version": 3
   },
   "file_extension": ".py",
   "mimetype": "text/x-python",
   "name": "python",
   "nbconvert_exporter": "python",
   "pygments_lexer": "ipython3",
   "version": "3.8.8"
  }
 },
 "nbformat": 4,
 "nbformat_minor": 5
}
